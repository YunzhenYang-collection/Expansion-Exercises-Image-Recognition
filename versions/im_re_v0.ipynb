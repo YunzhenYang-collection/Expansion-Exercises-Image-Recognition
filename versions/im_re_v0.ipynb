{
  "nbformat": 4,
  "nbformat_minor": 0,
  "metadata": {
    "colab": {
      "provenance": [],
      "authorship_tag": "ABX9TyPvz3Ob/kOMhetZC6x9v5Fn",
      "include_colab_link": true
    },
    "kernelspec": {
      "name": "python3",
      "display_name": "Python 3"
    },
    "language_info": {
      "name": "python"
    }
  },
  "cells": [
    {
      "cell_type": "markdown",
      "metadata": {
        "id": "view-in-github",
        "colab_type": "text"
      },
      "source": [
        "<a href=\"https://colab.research.google.com/github/YunzhenYang-collection/Expansion-Exercises-Image-Recognition/blob/main/versions/im_re_v0.ipynb\" target=\"_parent\"><img src=\"https://colab.research.google.com/assets/colab-badge.svg\" alt=\"Open In Colab\"/></a>"
      ]
    },
    {
      "cell_type": "code",
      "execution_count": null,
      "metadata": {
        "id": "2a01s28mkLsZ",
        "colab": {
          "base_uri": "https://localhost:8080/"
        },
        "outputId": "c96cb449-f909-4b7a-f611-ca6f58dfedb3"
      },
      "outputs": [
        {
          "output_type": "stream",
          "name": "stdout",
          "text": [
            "\u001b[2K   \u001b[90m━━━━━━━━━━━━━━━━━━━━━━━━━━━━━━━━━━━━━━━━\u001b[0m \u001b[32m13.1/13.1 MB\u001b[0m \u001b[31m21.4 MB/s\u001b[0m eta \u001b[36m0:00:00\u001b[0m\n",
            "\u001b[?25h"
          ]
        }
      ],
      "source": [
        "!pip install -q -U google-generativeai google-auth google-auth-oauthlib google-auth-httplib2 google-api-python-client"
      ]
    },
    {
      "cell_type": "code",
      "source": [
        "import google.generativeai as genai\n",
        "from IPython.display import Markdown\n",
        "import httpx\n",
        "import base64\n",
        "import imghdr"
      ],
      "metadata": {
        "id": "ddr-GVSbkWr4",
        "colab": {
          "base_uri": "https://localhost:8080/"
        },
        "outputId": "37c043ff-5fd8-4bb8-a33e-3e16706c3dbb"
      },
      "execution_count": null,
      "outputs": [
        {
          "output_type": "stream",
          "name": "stderr",
          "text": [
            "<ipython-input-2-7367c4741d25>:5: DeprecationWarning: 'imghdr' is deprecated and slated for removal in Python 3.13\n",
            "  import imghdr  # 匯入 imghdr 模組\n"
          ]
        }
      ]
    },
    {
      "cell_type": "code",
      "source": [
        "from google.colab import drive\n",
        "import os\n",
        "drive.mount('/content/drive')\n",
        "from google.colab import files"
      ],
      "metadata": {
        "colab": {
          "base_uri": "https://localhost:8080/"
        },
        "id": "8rXizT5FWP1X",
        "outputId": "002e1122-a8c1-4c3c-d5b5-f95ea8b9aea0"
      },
      "execution_count": null,
      "outputs": [
        {
          "output_type": "stream",
          "name": "stdout",
          "text": [
            "Mounted at /content/drive\n"
          ]
        }
      ]
    },
    {
      "cell_type": "code",
      "source": [
        "from google.colab import userdata\n",
        "# userdata.get('GOOGLE_API_KEY')\n",
        "GOOGLE_API_KEY = userdata.get('GOOGLE_API_KEY')\n",
        "# 確認密鑰是否正確檢索\n",
        "if GOOGLE_API_KEY:\n",
        "    print(\"API key retrieved successfully.\")\n",
        "    genai.configure(api_key=GOOGLE_API_KEY)\n",
        "else:\n",
        "    print(\"Error: API key not found.\")"
      ],
      "metadata": {
        "id": "pYDBZl8okZbi",
        "colab": {
          "base_uri": "https://localhost:8080/"
        },
        "outputId": "34051cad-5c19-4df9-dc2b-c236661c6703"
      },
      "execution_count": null,
      "outputs": [
        {
          "output_type": "stream",
          "name": "stdout",
          "text": [
            "API key retrieved successfully.\n"
          ]
        }
      ]
    },
    {
      "cell_type": "code",
      "source": [
        "# 影像檔案路徑 (請替換為您的影像 URL 或 Colab 本機檔案路徑)\n",
        "# image_path = '/content/drive/My Drive/Colab Notebooks/PictureSet/vision_test.png'\n",
        "image_path = '/content/drive/My Drive/Colab Notebooks/PictureSet/blood1.jpg'\n",
        "\n",
        "try:\n",
        "    # 取得影像\n",
        "    with open(image_path, \"rb\") as image_file:\n",
        "        image_content = image_file.read()\n",
        "\n",
        "    # 偵測圖片類型\n",
        "    image_type = imghdr.what(None, image_content)\n",
        "\n",
        "    # 根據圖片類型設定 mime_type\n",
        "    if image_type == 'jpeg':\n",
        "        mime_type = 'image/jpeg'\n",
        "    elif image_type == 'jpg':\n",
        "        mime_type = 'image/jpg'\n",
        "    elif image_type == 'png':\n",
        "        mime_type = 'image/png'\n",
        "    elif image_type == 'heic':\n",
        "        mime_type = 'image/heic'\n",
        "    else:\n",
        "        mime_type = 'application/octet-stream'  # 預設類型\n",
        "\n",
        "    # base64 編碼\n",
        "    def encode_image(image_content):\n",
        "        return base64.b64encode(image_content).decode(\"utf-8\")\n",
        "\n",
        "    encoded_image = encode_image(image_content)\n",
        "\n",
        "    # 選擇 Gemini 模型\n",
        "    model = genai.GenerativeModel(model_name=\"gemini-1.5-pro\")\n",
        "\n",
        "    # 建立提示\n",
        "    prompt = \"Read the text in this image.\"\n",
        "    response = model.generate_content(\n",
        "        [\n",
        "            {\n",
        "                \"mime_type\": mime_type,\n",
        "                \"data\": encoded_image,\n",
        "            },\n",
        "            prompt,\n",
        "        ]\n",
        "    )\n",
        "\n",
        "    if response.text:\n",
        "        print(response.text)  # 印出讀取到的文字\n",
        "    else:\n",
        "        print(\"No response text.\")\n",
        "\n",
        "except FileNotFoundError:\n",
        "    print(f\"Error: File not found at {image_path}\")\n",
        "except Exception as e:\n",
        "    print(f\"An error occurred: {e}\")"
      ],
      "metadata": {
        "id": "ahOb8l4uaesJ",
        "outputId": "1852fb5e-78b3-4d36-87a2-99e84eba4c27",
        "colab": {
          "base_uri": "https://localhost:8080/",
          "height": 277
        }
      },
      "execution_count": null,
      "outputs": [
        {
          "output_type": "stream",
          "name": "stdout",
          "text": [
            "The text on the blood pressure monitor reads:\n",
            "\n",
            "* **M 10:10**: likely indicates manual measurement and the time\n",
            "* **日期**: Date\n",
            "* **119 mmHg**: Systolic blood pressure (high pressure)\n",
            "* **81 mmHg**: Diastolic blood pressure (low pressure)\n",
            "* **AVG**: Average\n",
            "* **83**: likely pulse rate \n",
            "* **70**: likely pulse rate (unit unclear, possibly BPM)\n",
            "* **脉搏  次/分**: Pulse/Minute\n",
            "* **WHO**: World Health Organization (indicator lines show blood pressure range categories)\n",
            "* **设置**: Settings\n",
            "* **开始**: Start\n",
            "* **停止**: Stop\n",
            "* **记忆**: Memory\n"
          ]
        }
      ]
    }
  ]
}